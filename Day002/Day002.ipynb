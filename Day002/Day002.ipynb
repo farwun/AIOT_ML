{
 "cells": [
  {
   "cell_type": "markdown",
   "metadata": {},
   "source": [
    "請參閱作業範例：\n",
    "\n",
    "\n",
    "\n",
    "作業1：嘗試練習說出你身邊環境的場域，會使用那些類型的感測器？\n",
    "\n",
    "\n",
    "作業2：練習在網站上面搜尋某一種感測器的說明，例如溫溼度感測器\n",
    "\n",
    "\n",
    "作業3：針對感測器本身不同的工作特性，嘗試在網路上找尋一種以上功能相同的感測器，了解功能相同，但是製作方式或運作方式不同的感測器元件的價格與規格。"
   ]
  },
  {
   "cell_type": "markdown",
   "metadata": {},
   "source": [
    "作業1：嘗試練習說出你身邊環境的場域，會使用那些類型的感測器？\n",
    "光亮度感測"
   ]
  },
  {
   "cell_type": "markdown",
   "metadata": {},
   "source": [
    "作業2：練習在網站上面搜尋某一種感測器的說明，例如溫溼度感測器\n",
    "溫度感測器介紹\n",
    "溫度是最常見的物理量測作業之一。 因應不同的環境中透過不同的量測方式來擷取溫度。\n",
    "其中有液體溫度量測、紅外線測溫、氣體溫度量測等，因應實驗需求選用適合的溫度感測器。\n",
    "熱電耦放大器則可支援多種型態熱電耦轉為電壓訊號輸出。"
   ]
  },
  {
   "cell_type": "markdown",
   "metadata": {},
   "source": [
    "作業3：針對感測器本身不同的工作特性，嘗試在網路上找尋一種以上功能相同的感測器，了解功能相同，但是製作方式或運作方式不同的感測器元件的價格與規格。\n",
    "http://www.systemaccess.com.tw/page/product/p02.aspx?kind=176&root=127&rootnum=129\n",
    "溫度感測器類型區別\n",
    "1.液體溫度-藉由白金電阻及其近乎線性的膨脹係數量測液體溫度。\n",
    "2.紅外線測溫-藉由熱輻射原理接收紅外線量測溫度。\n",
    "3.氣溫-透過熱敏電阻之電阻變化量計算氣體溫度之變化。\n",
    "4.熱電偶放大器-藉由兩種不同特性金屬膨脹量測溫度變化。"
   ]
  }
 ],
 "metadata": {
  "kernelspec": {
   "display_name": "Python 3",
   "language": "python",
   "name": "python3"
  },
  "language_info": {
   "codemirror_mode": {
    "name": "ipython",
    "version": 3
   },
   "file_extension": ".py",
   "mimetype": "text/x-python",
   "name": "python",
   "nbconvert_exporter": "python",
   "pygments_lexer": "ipython3",
   "version": "3.8.5"
  }
 },
 "nbformat": 4,
 "nbformat_minor": 4
}
