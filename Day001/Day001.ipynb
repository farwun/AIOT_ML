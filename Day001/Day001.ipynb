{
 "cells": [
  {
   "cell_type": "markdown",
   "metadata": {},
   "source": [
    "請參閱作業範例：\n",
    "\n",
    "\n",
    "\n",
    "作業1：物聯網與人工智慧物聯網的差異為何？\n",
    "\n",
    "\n",
    "作業2：嘗試寫出記憶中熟知的人工智慧物聯網的各個區塊。\n",
    "\n",
    "\n",
    "作業3：AIoT 的三大關鍵技術是哪幾個部分？"
   ]
  },
  {
   "cell_type": "code",
   "execution_count": null,
   "metadata": {},
   "outputs": [],
   "source": [
    "作業1：物聯網與人工智慧物聯網的差異為何？\n",
    "物聯網的譯名著重的是硬體，而人工智慧物聯網的翻譯是要強調服務與軟體"
   ]
  },
  {
   "cell_type": "code",
   "execution_count": null,
   "metadata": {},
   "outputs": [],
   "source": [
    "作業2：嘗試寫出記憶中熟知的人工智慧物聯網的各個區塊。\n",
    "智慧城市、智慧醫療、智慧農業、智慧交通、智慧製造"
   ]
  },
  {
   "cell_type": "code",
   "execution_count": null,
   "metadata": {},
   "outputs": [],
   "source": [
    "作業3：AIoT 的三大關鍵技術是哪幾個部分？\n",
    "嵌入式系統與感測器\n",
    "雲端數據與分析\n",
    "5G"
   ]
  }
 ],
 "metadata": {
  "kernelspec": {
   "display_name": "Python 3",
   "language": "python",
   "name": "python3"
  },
  "language_info": {
   "codemirror_mode": {
    "name": "ipython",
    "version": 3
   },
   "file_extension": ".py",
   "mimetype": "text/x-python",
   "name": "python",
   "nbconvert_exporter": "python",
   "pygments_lexer": "ipython3",
   "version": "3.8.5"
  }
 },
 "nbformat": 4,
 "nbformat_minor": 4
}
