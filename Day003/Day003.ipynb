{
 "cells": [
  {
   "cell_type": "markdown",
   "metadata": {},
   "source": [
    "作業1：比較 UART、I2C 介面的相同與相異？\n",
    "\n",
    "\n",
    "作業2：練習到露天網站搜尋不同的感測器，嘗試了解感測器的輸出規格，研讀感測器的說明文件與接腳說明，判斷是 UART、I2C、SPI 還是特殊規格輸出的感測器。\n",
    "\n",
    "\n",
    "作業3：類比感測器需要透過什麼樣的零件，才能夠將資料傳輸到沒有類比感測裝置的電腦？"
   ]
  },
  {
   "cell_type": "markdown",
   "metadata": {},
   "source": [
    "作業1：比較 UART、I2C 介面的相同與相異？\n",
    "相同=>一樣是兩條線路\n",
    "相異:\n",
    "UART=>只能1:1連接裝置；兩條線路皆是傳輸線，可同時傳送與接收；傳送與接數端皆需定義傳送速率(bit rate)。\n",
    "I2C=>可同時連接多個裝置；僅一條線為傳輸線，傳送時無法接收，接收時無法傳送；有一條線負責傳送同步時脈。"
   ]
  },
  {
   "cell_type": "markdown",
   "metadata": {},
   "source": [
    "作業2：練習到露天網站搜尋不同的感測器，嘗試了解感測器的輸出規格，研讀感測器的說明文件與接腳說明，判斷是 UART、I2C、SPI 還是特殊規格輸出的感測器。\n",
    "https://www.ruten.com.tw/item/show?22012362374956\n",
    "I2C、SPI"
   ]
  },
  {
   "cell_type": "markdown",
   "metadata": {},
   "source": [
    "作業3：類比感測器需要透過什麼樣的零件，才能夠將資料傳輸到沒有類比感測裝置的電腦？\n",
    "ADC, Analogue Digital Convert"
   ]
  }
 ],
 "metadata": {
  "kernelspec": {
   "display_name": "Python 3",
   "language": "python",
   "name": "python3"
  },
  "language_info": {
   "codemirror_mode": {
    "name": "ipython",
    "version": 3
   },
   "file_extension": ".py",
   "mimetype": "text/x-python",
   "name": "python",
   "nbconvert_exporter": "python",
   "pygments_lexer": "ipython3",
   "version": "3.8.5"
  }
 },
 "nbformat": 4,
 "nbformat_minor": 4
}
