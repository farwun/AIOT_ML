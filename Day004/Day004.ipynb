{
 "cells": [
  {
   "cell_type": "markdown",
   "metadata": {},
   "source": [
    "作業 1：溫度感測器的資料，要透過 MQTT 的方式將資料傳送至後端的網路伺服器，需要架設哪些軟體，才能完成資料傳送的架構?\n",
    "作業 2：感測器傳送至後端的軟體運作架構是否有特殊的要求與限制？溫度感測器的資料是否一定只能用 HTTP 或者 MQTT？\n",
    "練習將系統後端的資料儲存架構、資料傳送協定、前端感測元件的資料傳送流程用自己的觀念嘗試畫出來，增加前端如何將資料傳送至後端的概念與運作方式。"
   ]
  },
  {
   "cell_type": "markdown",
   "metadata": {},
   "source": [
    "作業 1：溫度感測器的資料，要透過 MQTT 的方式將資料傳送至後端的網路伺服器，需要架設哪些軟體，才能完成資料傳送的架構?\n",
    "=>下載與安裝Mosquitto，pthreads的pthreadVC2.dll，OpenSSL的libeay32.dll和ssleay32.dll\n",
    "=>在Windows的「服務」項目中，選擇「啟動」mosquitto服務，然後Windows的防火牆開通1883埠號。"
   ]
  },
  {
   "cell_type": "markdown",
   "metadata": {},
   "source": [
    "作業 2：感測器傳送至後端的軟體運作架構是否有特殊的要求與限制？溫度感測器的資料是否一定只能用 HTTP 或者 MQTT？\n",
    "練習將系統後端的資料儲存架構、資料傳送協定、前端感測元件的資料傳送流程用自己的觀念嘗試畫出來，增加前端如何將資料傳送至後端的概念與運作方式。\n",
    "=>平時儲本地端，有需求才傳送、資料壓縮與批次上傳\n",
    "=>不一定，還有CoAP(Constrained Application Protocal), AMQP(Advance Message Queuing Protocol)及DDS(Data Distribution Service)等通訊協定可以選擇.\n",
    "=>Sensor(Publisher)->MQTT Package(Mqtt header+Mqtt topic+Data)->Server(Broker)->Client(Subscriber)"
   ]
  }
 ],
 "metadata": {
  "kernelspec": {
   "display_name": "Python 3",
   "language": "python",
   "name": "python3"
  },
  "language_info": {
   "codemirror_mode": {
    "name": "ipython",
    "version": 3
   },
   "file_extension": ".py",
   "mimetype": "text/x-python",
   "name": "python",
   "nbconvert_exporter": "python",
   "pygments_lexer": "ipython3",
   "version": "3.8.5"
  }
 },
 "nbformat": 4,
 "nbformat_minor": 4
}
